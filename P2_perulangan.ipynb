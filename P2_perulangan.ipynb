{
 "cells": [
  {
   "cell_type": "markdown",
   "id": "d8e1bdb9",
   "metadata": {},
   "source": [
    "# Python if else"
   ]
  },
  {
   "cell_type": "markdown",
   "id": "e47f326b",
   "metadata": {},
   "source": [
    "1. Python if Statement"
   ]
  },
  {
   "cell_type": "code",
   "execution_count": 3,
   "id": "e6a0e0ab",
   "metadata": {},
   "outputs": [
    {
     "name": "stdout",
     "output_type": "stream",
     "text": [
      "Angka Positif\n",
      "didalam statement if\n",
      "luar dari if statement\n"
     ]
    }
   ],
   "source": [
    "number = 10\n",
    "if number > 0 :\n",
    "    print(\"Angka Positif\")\n",
    "    print(\"didalam statement if\")\n",
    "print(\"luar dari if statement\")"
   ]
  },
  {
   "cell_type": "code",
   "execution_count": 11,
   "id": "3402253d",
   "metadata": {},
   "outputs": [
    {
     "name": "stdout",
     "output_type": "stream",
     "text": [
      "9990\n"
     ]
    }
   ],
   "source": [
    "# inputan\n",
    "transaksi = 10000\n",
    "grade = 70\n",
    "### logic discount ###\n",
    "discount = 10\n",
    "if grade >70:\n",
    "    discount = 50\n",
    "### logic ###\n",
    "\n",
    "total_transaksi = transaksi - discount\n",
    "print(total_transaksi)"
   ]
  },
  {
   "cell_type": "code",
   "execution_count": 12,
   "id": "ff43bc55",
   "metadata": {},
   "outputs": [
    {
     "name": "stdout",
     "output_type": "stream",
     "text": [
      "di luar dari kondisi if\n"
     ]
    }
   ],
   "source": [
    "number = -5\n",
    "if number > 0:\n",
    "    print(\"angka positif\")\n",
    "    \n",
    "print(\"di luar dari kondisi if\")"
   ]
  },
  {
   "cell_type": "markdown",
   "id": "a004dfb1",
   "metadata": {},
   "source": [
    "2. Python if else statement"
   ]
  },
  {
   "cell_type": "code",
   "execution_count": 13,
   "id": "8020999a",
   "metadata": {},
   "outputs": [
    {
     "name": "stdout",
     "output_type": "stream",
     "text": [
      "Angka Positif\n"
     ]
    }
   ],
   "source": [
    "# condition if true\n",
    "number = 10\n",
    "if number > 0:\n",
    "    print(\"Angka Positif\")\n",
    "else:\n",
    "    print(\"Angka Negatif\")\n",
    "    \n",
    "    \n",
    "    print(\"dilura dari kondisi if else\")"
   ]
  },
  {
   "cell_type": "code",
   "execution_count": 14,
   "id": "4d8f08f9",
   "metadata": {},
   "outputs": [
    {
     "name": "stdout",
     "output_type": "stream",
     "text": [
      "Angka negatif\n",
      "diluar dari kondisi if else\n"
     ]
    }
   ],
   "source": [
    "#condition if false\n",
    "number = -5\n",
    "if number >0:\n",
    "    print(\"Angka positif\")\n",
    "else:\n",
    "    print(\"Angka negatif\")\n",
    "print(\"diluar dari kondisi if else\")"
   ]
  },
  {
   "cell_type": "markdown",
   "id": "f651404c",
   "metadata": {},
   "source": [
    "3. If elif else statement"
   ]
  },
  {
   "cell_type": "code",
   "execution_count": 16,
   "id": "76853a52",
   "metadata": {},
   "outputs": [
    {
     "name": "stdout",
     "output_type": "stream",
     "text": [
      "Angka Positif\n",
      "diluar dari kondisi if else\n"
     ]
    }
   ],
   "source": [
    "#1st condition is true\n",
    "number = 5\n",
    "if number >0:\n",
    "    print(\"Angka Positif\")\n",
    "elif number < 0:\n",
    "    print(\"Angka Negatif\")\n",
    "else:\n",
    "    print(\"Angka 0\")\n",
    "    \n",
    "print(\"diluar dari kondisi if else\")"
   ]
  },
  {
   "cell_type": "code",
   "execution_count": 17,
   "id": "c80bdbcc",
   "metadata": {},
   "outputs": [
    {
     "name": "stdout",
     "output_type": "stream",
     "text": [
      "Angka Negatif\n",
      "diluar dari kondisi if else\n"
     ]
    }
   ],
   "source": [
    "#2nd condition is true\n",
    "number = -5\n",
    "if number > 0:\n",
    "    print(\"Angka Positif\")\n",
    "elif number <0:\n",
    "    print(\"Angka Negatif\")\n",
    "else:\n",
    "    print(\"Angka 0\")\n",
    "    \n",
    "print(\"diluar dari kondisi if else\")"
   ]
  },
  {
   "cell_type": "code",
   "execution_count": 18,
   "id": "5bc408f0",
   "metadata": {},
   "outputs": [
    {
     "name": "stdout",
     "output_type": "stream",
     "text": [
      "Angka 0\n",
      "diluar dari kondisi if else\n"
     ]
    }
   ],
   "source": [
    "#All condition are false\n",
    "number = 0\n",
    "if number > 0:\n",
    "    print(\"Angka Positif\")\n",
    "elif number < 0:\n",
    "    print(\"Angka Negatif\")\n",
    "else:\n",
    "    print(\"Angka 0\")\n",
    "    \n",
    "print(\"diluar dari kondisi if else\")"
   ]
  },
  {
   "cell_type": "markdown",
   "id": "aa002cc5",
   "metadata": {},
   "source": [
    "4. Nested if statement"
   ]
  },
  {
   "cell_type": "code",
   "execution_count": 26,
   "id": "e37cbe22",
   "metadata": {},
   "outputs": [
    {
     "name": "stdout",
     "output_type": "stream",
     "text": [
      "dipertimbangkan\n",
      "karena berbuat baik, maka lulus\n"
     ]
    }
   ],
   "source": [
    "nilai = 50\n",
    "absen = 8\n",
    "sopan = True\n",
    "\n",
    "if nilai < 60:\n",
    "    print(\"dipertimbangkan\")\n",
    "    if absen < 7:\n",
    "        print(\"Lulus dengan pertimbangan\")\n",
    "    else:\n",
    "        if sopan:\n",
    "            print(\"karena berbuat baik, maka lulus\")\n",
    "        else:\n",
    "            print(\"tidak lulus\")\n",
    "else:\n",
    "    print(\"Lulus\")"
   ]
  },
  {
   "cell_type": "code",
   "execution_count": 27,
   "id": "c8497501",
   "metadata": {},
   "outputs": [
    {
     "name": "stdout",
     "output_type": "stream",
     "text": [
      "foo fitemukan\n",
      "Nilai x lebih besar dari y\n",
      "condition foo in list\n",
      "Nilai i lebih besar dari j\n",
      "statement terakhir if\n",
      "selesai\n"
     ]
    }
   ],
   "source": [
    "x = 7\n",
    "y = 6\n",
    "i = 2\n",
    "j = 3\n",
    "if 'foo' in ['foo','bar','baz']:\n",
    "    print(\"foo fitemukan\")\n",
    "    \n",
    "    if x > y:\n",
    "        print(\"Nilai x lebih besar dari y\")\n",
    "    \n",
    "    print(\"condition foo in list\")\n",
    "    \n",
    "    if i < j:\n",
    "        print(\"Nilai i lebih besar dari j\")\n",
    "        \n",
    "    print(\"statement terakhir if\")\n",
    "print(\"selesai\")"
   ]
  },
  {
   "cell_type": "markdown",
   "id": "c3ce5da6",
   "metadata": {},
   "source": [
    "# Python Tenary Operation"
   ]
  },
  {
   "cell_type": "markdown",
   "id": "8c9db49f",
   "metadata": {},
   "source": [
    "if else"
   ]
  },
  {
   "cell_type": "code",
   "execution_count": 29,
   "id": "a0960ed5",
   "metadata": {},
   "outputs": [
    {
     "name": "stdout",
     "output_type": "stream",
     "text": [
      "Hello kondisi salah\n"
     ]
    }
   ],
   "source": [
    "print(\"Hello saya benar\") if \"H\" in \"hellloooo\" else print(\"Hello kondisi salah\")"
   ]
  },
  {
   "cell_type": "code",
   "execution_count": 33,
   "id": "634dce08",
   "metadata": {},
   "outputs": [
    {
     "name": "stdout",
     "output_type": "stream",
     "text": [
      "Let's go to the Library\n"
     ]
    }
   ],
   "source": [
    "raining = True\n",
    "print(\"Let's go to the\", \"beach\" if not raining else \"Library\")"
   ]
  },
  {
   "cell_type": "code",
   "execution_count": 34,
   "id": "2b613a7f",
   "metadata": {},
   "outputs": [
    {
     "name": "stdout",
     "output_type": "stream",
     "text": [
      "sudah bisa vaksin\n"
     ]
    }
   ],
   "source": [
    "umur = 10\n",
    "status_vaksin = \"belum boleh vaksin\" if umur < 5 else \"sudah bisa vaksin\"\n",
    "\n",
    "print(status_vaksin)"
   ]
  },
  {
   "cell_type": "markdown",
   "id": "89f99ea5",
   "metadata": {},
   "source": [
    "Python for loop"
   ]
  },
  {
   "cell_type": "markdown",
   "id": "d285506e",
   "metadata": {},
   "source": [
    "looping in list"
   ]
  },
  {
   "cell_type": "code",
   "execution_count": 36,
   "id": "1c9af712",
   "metadata": {},
   "outputs": [
    {
     "name": "stdout",
     "output_type": "stream",
     "text": [
      "['Golang', 'Python', 'Java', 'C#', 'Rust', 'Vlang']\n",
      "Bahasa Pemrograman\n",
      "Golang\n",
      "Bahasa Pemrograman\n",
      "Python\n",
      "Bahasa Pemrograman\n",
      "Java\n",
      "Bahasa Pemrograman\n",
      "C#\n",
      "Bahasa Pemrograman\n",
      "Rust\n",
      "Bahasa Pemrograman\n",
      "Vlang\n"
     ]
    }
   ],
   "source": [
    "languages = ['Golang','Python','Java','C#','Rust','Vlang']\n",
    "print(languages)\n",
    "\n",
    "for lang in languages:\n",
    "    print(\"Bahasa Pemrograman\")\n",
    "    print(lang)"
   ]
  },
  {
   "cell_type": "markdown",
   "id": "ce557937",
   "metadata": {},
   "source": [
    "looping in dictionary"
   ]
  },
  {
   "cell_type": "code",
   "execution_count": null,
   "id": "d9588f80",
   "metadata": {},
   "outputs": [],
   "source": []
  }
 ],
 "metadata": {
  "kernelspec": {
   "display_name": "Python 3 (ipykernel)",
   "language": "python",
   "name": "python3"
  },
  "language_info": {
   "codemirror_mode": {
    "name": "ipython",
    "version": 3
   },
   "file_extension": ".py",
   "mimetype": "text/x-python",
   "name": "python",
   "nbconvert_exporter": "python",
   "pygments_lexer": "ipython3",
   "version": "3.9.13"
  }
 },
 "nbformat": 4,
 "nbformat_minor": 5
}
