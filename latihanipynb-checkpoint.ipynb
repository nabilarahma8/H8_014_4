{
 "cells": [
  {
   "cell_type": "markdown",
   "id": "ddf6594a",
   "metadata": {},
   "source": [
    "#integer"
   ]
  },
  {
   "cell_type": "code",
   "execution_count": 1,
   "id": "d4dbf540",
   "metadata": {},
   "outputs": [
    {
     "name": "stdout",
     "output_type": "stream",
     "text": [
      "10\n",
      "<class 'int'>\n"
     ]
    }
   ],
   "source": [
    "print(10)\n",
    "print(type(10))"
   ]
  },
  {
   "cell_type": "markdown",
   "id": "dc34d5ca",
   "metadata": {},
   "source": [
    "#floating point numbers"
   ]
  },
  {
   "cell_type": "code",
   "execution_count": 2,
   "id": "82cc2f90",
   "metadata": {},
   "outputs": [
    {
     "name": "stdout",
     "output_type": "stream",
     "text": [
      "4.2\n",
      "<class 'float'>\n",
      "4.0\n",
      "0.2\n",
      "4000000.0\n",
      "0.00042\n"
     ]
    }
   ],
   "source": [
    "print(4.2)\n",
    "print(type(4.2))\n",
    "print(4.)\n",
    "print(.2)\n",
    "print(.4e7)\n",
    "print(4.2e-4)"
   ]
  },
  {
   "cell_type": "markdown",
   "id": "a84c8bd6",
   "metadata": {},
   "source": [
    "#strings"
   ]
  },
  {
   "cell_type": "code",
   "execution_count": 3,
   "id": "5f08eef0",
   "metadata": {},
   "outputs": [
    {
     "name": "stdout",
     "output_type": "stream",
     "text": [
      "Hactiv8\n",
      "<class 'str'>\n"
     ]
    }
   ],
   "source": [
    "print(\"Hactiv8\")\n",
    "print(type(\"Hactiv8\"))"
   ]
  },
  {
   "cell_type": "code",
   "execution_count": 4,
   "id": "3f86affb",
   "metadata": {},
   "outputs": [
    {
     "name": "stdout",
     "output_type": "stream",
     "text": [
      "\n"
     ]
    }
   ],
   "source": [
    "print('')"
   ]
  },
  {
   "cell_type": "code",
   "execution_count": 6,
   "id": "eec30fa6",
   "metadata": {},
   "outputs": [
    {
     "name": "stdout",
     "output_type": "stream",
     "text": [
      "This string contains a single quote(')character.\n",
      "This string contains a double quote(\")characters.\n"
     ]
    }
   ],
   "source": [
    "print(\"This string contains a single quote(')character.\")\n",
    "print('This string contains a double quote(\")characters.')"
   ]
  },
  {
   "cell_type": "markdown",
   "id": "ad45d080",
   "metadata": {},
   "source": [
    "#Boolean type, boolean context, and \"truthiness\""
   ]
  },
  {
   "cell_type": "code",
   "execution_count": null,
   "id": "0c5634e1",
   "metadata": {},
   "outputs": [],
   "source": []
  }
 ],
 "metadata": {
  "kernelspec": {
   "display_name": "Python 3 (ipykernel)",
   "language": "python",
   "name": "python3"
  },
  "language_info": {
   "codemirror_mode": {
    "name": "ipython",
    "version": 3
   },
   "file_extension": ".py",
   "mimetype": "text/x-python",
   "name": "python",
   "nbconvert_exporter": "python",
   "pygments_lexer": "ipython3",
   "version": "3.9.13"
  }
 },
 "nbformat": 4,
 "nbformat_minor": 5
}
